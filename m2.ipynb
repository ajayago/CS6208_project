{
  "cells": [
    {
      "cell_type": "code",
      "execution_count": 1,
      "metadata": {
        "colab": {
          "base_uri": "https://localhost:8080/"
        },
        "id": "i3wc81OB7vDP",
        "outputId": "acafac98-cdf8-4bbe-d93c-00933a5f473b"
      },
      "outputs": [
        {
          "output_type": "stream",
          "name": "stdout",
          "text": [
            "Looking in indexes: https://pypi.org/simple, https://us-python.pkg.dev/colab-wheels/public/simple/\n",
            "Looking in links: https://data.dgl.ai/wheels/repo.html\n",
            "Requirement already satisfied: dgl in /usr/local/lib/python3.9/dist-packages (1.0.2)\n",
            "Requirement already satisfied: networkx>=2.1 in /usr/local/lib/python3.9/dist-packages (from dgl) (3.1)\n",
            "Requirement already satisfied: tqdm in /usr/local/lib/python3.9/dist-packages (from dgl) (4.65.0)\n",
            "Requirement already satisfied: scipy>=1.1.0 in /usr/local/lib/python3.9/dist-packages (from dgl) (1.10.1)\n",
            "Requirement already satisfied: psutil>=5.8.0 in /usr/local/lib/python3.9/dist-packages (from dgl) (5.9.4)\n",
            "Requirement already satisfied: numpy>=1.14.0 in /usr/local/lib/python3.9/dist-packages (from dgl) (1.22.4)\n",
            "Requirement already satisfied: requests>=2.19.0 in /usr/local/lib/python3.9/dist-packages (from dgl) (2.27.1)\n",
            "Requirement already satisfied: urllib3<1.27,>=1.21.1 in /usr/local/lib/python3.9/dist-packages (from requests>=2.19.0->dgl) (1.26.15)\n",
            "Requirement already satisfied: idna<4,>=2.5 in /usr/local/lib/python3.9/dist-packages (from requests>=2.19.0->dgl) (3.4)\n",
            "Requirement already satisfied: charset-normalizer~=2.0.0 in /usr/local/lib/python3.9/dist-packages (from requests>=2.19.0->dgl) (2.0.12)\n",
            "Requirement already satisfied: certifi>=2017.4.17 in /usr/local/lib/python3.9/dist-packages (from requests>=2.19.0->dgl) (2022.12.7)\n",
            "Looking in indexes: https://pypi.org/simple, https://us-python.pkg.dev/colab-wheels/public/simple/\n",
            "Looking in links: https://data.dgl.ai/wheels-test/repo.html\n",
            "Requirement already satisfied: dglgo in /usr/local/lib/python3.9/dist-packages (0.0.2)\n",
            "Requirement already satisfied: ruamel.yaml>=0.17.20 in /usr/local/lib/python3.9/dist-packages (from dglgo) (0.17.21)\n",
            "Requirement already satisfied: isort>=5.10.1 in /usr/local/lib/python3.9/dist-packages (from dglgo) (5.12.0)\n",
            "Requirement already satisfied: rdkit-pypi in /usr/local/lib/python3.9/dist-packages (from dglgo) (2022.9.5)\n",
            "Requirement already satisfied: scikit-learn>=0.20.0 in /usr/local/lib/python3.9/dist-packages (from dglgo) (1.2.2)\n",
            "Requirement already satisfied: ogb>=1.3.3 in /usr/local/lib/python3.9/dist-packages (from dglgo) (1.3.6)\n",
            "Requirement already satisfied: pydantic>=1.9.0 in /usr/local/lib/python3.9/dist-packages (from dglgo) (1.10.7)\n",
            "Requirement already satisfied: PyYAML>=5.1 in /usr/local/lib/python3.9/dist-packages (from dglgo) (6.0)\n",
            "Requirement already satisfied: typer>=0.4.0 in /usr/local/lib/python3.9/dist-packages (from dglgo) (0.7.0)\n",
            "Requirement already satisfied: autopep8>=1.6.0 in /usr/local/lib/python3.9/dist-packages (from dglgo) (2.0.2)\n",
            "Requirement already satisfied: numpydoc>=1.1.0 in /usr/local/lib/python3.9/dist-packages (from dglgo) (1.5.0)\n",
            "Requirement already satisfied: pycodestyle>=2.10.0 in /usr/local/lib/python3.9/dist-packages (from autopep8>=1.6.0->dglgo) (2.10.0)\n",
            "Requirement already satisfied: tomli in /usr/local/lib/python3.9/dist-packages (from autopep8>=1.6.0->dglgo) (2.0.1)\n",
            "Requirement already satisfied: sphinx>=4.2 in /usr/local/lib/python3.9/dist-packages (from numpydoc>=1.1.0->dglgo) (6.1.3)\n",
            "Requirement already satisfied: Jinja2>=2.10 in /usr/local/lib/python3.9/dist-packages (from numpydoc>=1.1.0->dglgo) (3.1.2)\n",
            "Requirement already satisfied: outdated>=0.2.0 in /usr/local/lib/python3.9/dist-packages (from ogb>=1.3.3->dglgo) (0.2.2)\n",
            "Requirement already satisfied: torch>=1.6.0 in /usr/local/lib/python3.9/dist-packages (from ogb>=1.3.3->dglgo) (2.0.0+cu118)\n",
            "Requirement already satisfied: pandas>=0.24.0 in /usr/local/lib/python3.9/dist-packages (from ogb>=1.3.3->dglgo) (1.5.3)\n",
            "Requirement already satisfied: urllib3>=1.24.0 in /usr/local/lib/python3.9/dist-packages (from ogb>=1.3.3->dglgo) (1.26.15)\n",
            "Requirement already satisfied: numpy>=1.16.0 in /usr/local/lib/python3.9/dist-packages (from ogb>=1.3.3->dglgo) (1.22.4)\n",
            "Requirement already satisfied: tqdm>=4.29.0 in /usr/local/lib/python3.9/dist-packages (from ogb>=1.3.3->dglgo) (4.65.0)\n",
            "Requirement already satisfied: six>=1.12.0 in /usr/local/lib/python3.9/dist-packages (from ogb>=1.3.3->dglgo) (1.16.0)\n",
            "Requirement already satisfied: typing-extensions>=4.2.0 in /usr/local/lib/python3.9/dist-packages (from pydantic>=1.9.0->dglgo) (4.5.0)\n",
            "Requirement already satisfied: ruamel.yaml.clib>=0.2.6 in /usr/local/lib/python3.9/dist-packages (from ruamel.yaml>=0.17.20->dglgo) (0.2.7)\n",
            "Requirement already satisfied: threadpoolctl>=2.0.0 in /usr/local/lib/python3.9/dist-packages (from scikit-learn>=0.20.0->dglgo) (3.1.0)\n",
            "Requirement already satisfied: joblib>=1.1.1 in /usr/local/lib/python3.9/dist-packages (from scikit-learn>=0.20.0->dglgo) (1.2.0)\n",
            "Requirement already satisfied: scipy>=1.3.2 in /usr/local/lib/python3.9/dist-packages (from scikit-learn>=0.20.0->dglgo) (1.10.1)\n",
            "Requirement already satisfied: click<9.0.0,>=7.1.1 in /usr/local/lib/python3.9/dist-packages (from typer>=0.4.0->dglgo) (8.1.3)\n",
            "Requirement already satisfied: Pillow in /usr/local/lib/python3.9/dist-packages (from rdkit-pypi->dglgo) (8.4.0)\n",
            "Requirement already satisfied: MarkupSafe>=2.0 in /usr/local/lib/python3.9/dist-packages (from Jinja2>=2.10->numpydoc>=1.1.0->dglgo) (2.1.2)\n",
            "Requirement already satisfied: setuptools>=44 in /usr/local/lib/python3.9/dist-packages (from outdated>=0.2.0->ogb>=1.3.3->dglgo) (67.6.1)\n",
            "Requirement already satisfied: requests in /usr/local/lib/python3.9/dist-packages (from outdated>=0.2.0->ogb>=1.3.3->dglgo) (2.27.1)\n",
            "Requirement already satisfied: littleutils in /usr/local/lib/python3.9/dist-packages (from outdated>=0.2.0->ogb>=1.3.3->dglgo) (0.2.2)\n",
            "Requirement already satisfied: pytz>=2020.1 in /usr/local/lib/python3.9/dist-packages (from pandas>=0.24.0->ogb>=1.3.3->dglgo) (2022.7.1)\n",
            "Requirement already satisfied: python-dateutil>=2.8.1 in /usr/local/lib/python3.9/dist-packages (from pandas>=0.24.0->ogb>=1.3.3->dglgo) (2.8.2)\n",
            "Requirement already satisfied: snowballstemmer>=2.0 in /usr/local/lib/python3.9/dist-packages (from sphinx>=4.2->numpydoc>=1.1.0->dglgo) (2.2.0)\n",
            "Requirement already satisfied: imagesize>=1.3 in /usr/local/lib/python3.9/dist-packages (from sphinx>=4.2->numpydoc>=1.1.0->dglgo) (1.4.1)\n",
            "Requirement already satisfied: sphinxcontrib-serializinghtml>=1.1.5 in /usr/local/lib/python3.9/dist-packages (from sphinx>=4.2->numpydoc>=1.1.0->dglgo) (1.1.5)\n",
            "Requirement already satisfied: packaging>=21.0 in /usr/local/lib/python3.9/dist-packages (from sphinx>=4.2->numpydoc>=1.1.0->dglgo) (23.0)\n",
            "Requirement already satisfied: importlib-metadata>=4.8 in /usr/local/lib/python3.9/dist-packages (from sphinx>=4.2->numpydoc>=1.1.0->dglgo) (6.3.0)\n",
            "Requirement already satisfied: sphinxcontrib-devhelp in /usr/local/lib/python3.9/dist-packages (from sphinx>=4.2->numpydoc>=1.1.0->dglgo) (1.0.2)\n",
            "Requirement already satisfied: sphinxcontrib-applehelp in /usr/local/lib/python3.9/dist-packages (from sphinx>=4.2->numpydoc>=1.1.0->dglgo) (1.0.4)\n",
            "Requirement already satisfied: sphinxcontrib-htmlhelp>=2.0.0 in /usr/local/lib/python3.9/dist-packages (from sphinx>=4.2->numpydoc>=1.1.0->dglgo) (2.0.1)\n",
            "Requirement already satisfied: sphinxcontrib-jsmath in /usr/local/lib/python3.9/dist-packages (from sphinx>=4.2->numpydoc>=1.1.0->dglgo) (1.0.1)\n",
            "Requirement already satisfied: babel>=2.9 in /usr/local/lib/python3.9/dist-packages (from sphinx>=4.2->numpydoc>=1.1.0->dglgo) (2.12.1)\n",
            "Requirement already satisfied: alabaster<0.8,>=0.7 in /usr/local/lib/python3.9/dist-packages (from sphinx>=4.2->numpydoc>=1.1.0->dglgo) (0.7.13)\n",
            "Requirement already satisfied: docutils<0.20,>=0.18 in /usr/local/lib/python3.9/dist-packages (from sphinx>=4.2->numpydoc>=1.1.0->dglgo) (0.19)\n",
            "Requirement already satisfied: Pygments>=2.13 in /usr/local/lib/python3.9/dist-packages (from sphinx>=4.2->numpydoc>=1.1.0->dglgo) (2.14.0)\n",
            "Requirement already satisfied: sphinxcontrib-qthelp in /usr/local/lib/python3.9/dist-packages (from sphinx>=4.2->numpydoc>=1.1.0->dglgo) (1.0.3)\n",
            "Requirement already satisfied: networkx in /usr/local/lib/python3.9/dist-packages (from torch>=1.6.0->ogb>=1.3.3->dglgo) (3.1)\n",
            "Requirement already satisfied: triton==2.0.0 in /usr/local/lib/python3.9/dist-packages (from torch>=1.6.0->ogb>=1.3.3->dglgo) (2.0.0)\n",
            "Requirement already satisfied: sympy in /usr/local/lib/python3.9/dist-packages (from torch>=1.6.0->ogb>=1.3.3->dglgo) (1.11.1)\n",
            "Requirement already satisfied: filelock in /usr/local/lib/python3.9/dist-packages (from torch>=1.6.0->ogb>=1.3.3->dglgo) (3.11.0)\n",
            "Requirement already satisfied: lit in /usr/local/lib/python3.9/dist-packages (from triton==2.0.0->torch>=1.6.0->ogb>=1.3.3->dglgo) (16.0.1)\n",
            "Requirement already satisfied: cmake in /usr/local/lib/python3.9/dist-packages (from triton==2.0.0->torch>=1.6.0->ogb>=1.3.3->dglgo) (3.25.2)\n",
            "Requirement already satisfied: zipp>=0.5 in /usr/local/lib/python3.9/dist-packages (from importlib-metadata>=4.8->sphinx>=4.2->numpydoc>=1.1.0->dglgo) (3.15.0)\n",
            "Requirement already satisfied: charset-normalizer~=2.0.0 in /usr/local/lib/python3.9/dist-packages (from requests->outdated>=0.2.0->ogb>=1.3.3->dglgo) (2.0.12)\n",
            "Requirement already satisfied: certifi>=2017.4.17 in /usr/local/lib/python3.9/dist-packages (from requests->outdated>=0.2.0->ogb>=1.3.3->dglgo) (2022.12.7)\n",
            "Requirement already satisfied: idna<4,>=2.5 in /usr/local/lib/python3.9/dist-packages (from requests->outdated>=0.2.0->ogb>=1.3.3->dglgo) (3.4)\n",
            "Requirement already satisfied: mpmath>=0.19 in /usr/local/lib/python3.9/dist-packages (from sympy->torch>=1.6.0->ogb>=1.3.3->dglgo) (1.3.0)\n"
          ]
        }
      ],
      "source": [
        "# Installing DGL\n",
        "! pip install  dgl -f https://data.dgl.ai/wheels/repo.html\n",
        "! pip install  dglgo -f https://data.dgl.ai/wheels-test/repo.html"
      ]
    },
    {
      "cell_type": "code",
      "execution_count": 2,
      "metadata": {
        "colab": {
          "base_uri": "https://localhost:8080/"
        },
        "id": "pLVqQxgSYXTc",
        "outputId": "acd44d80-b29d-4888-91b3-f2f3453effa2"
      },
      "outputs": [
        {
          "output_type": "stream",
          "name": "stdout",
          "text": [
            "Drive already mounted at /content/drive; to attempt to forcibly remount, call drive.mount(\"/content/drive\", force_remount=True).\n"
          ]
        }
      ],
      "source": [
        "from google.colab import drive\n",
        "drive.mount('/content/drive')"
      ]
    },
    {
      "cell_type": "code",
      "execution_count": 3,
      "metadata": {
        "id": "5SaASkeY8kO2"
      },
      "outputs": [],
      "source": [
        "import os\n",
        "os.environ['DGLBACKEND'] = 'pytorch'\n",
        "import torch\n",
        "import torch.nn as nn\n",
        "import torch.nn.functional as F\n",
        "\n",
        "import dgl\n",
        "import dgl.function as fn"
      ]
    },
    {
      "cell_type": "code",
      "execution_count": 4,
      "metadata": {
        "id": "-KlvgQn08rI8"
      },
      "outputs": [],
      "source": [
        "import pandas as pd\n",
        "import numpy as np"
      ]
    },
    {
      "cell_type": "code",
      "execution_count": 5,
      "metadata": {
        "colab": {
          "base_uri": "https://localhost:8080/"
        },
        "id": "R8J-Cmv5ImuY",
        "outputId": "093106fd-6b28-4621-fd50-5ce3003abeaf"
      },
      "outputs": [
        {
          "output_type": "execute_result",
          "data": {
            "text/plain": [
              "<torch._C.Generator at 0x7f5f54194830>"
            ]
          },
          "metadata": {},
          "execution_count": 5
        }
      ],
      "source": [
        "dgl.seed(42)\n",
        "torch.manual_seed(0)"
      ]
    },
    {
      "cell_type": "code",
      "execution_count": 6,
      "metadata": {
        "id": "ZrDr43k08xVS"
      },
      "outputs": [],
      "source": [
        "from dgl.data.utils import load_graphs\n",
        "glist, label_dict = load_graphs(\"./drive/MyDrive/CS6208 Project/Graph Construction/saved_graph.bin\")\n",
        "g = glist[0]"
      ]
    },
    {
      "cell_type": "markdown",
      "metadata": {
        "id": "GU_b9VeW81xK"
      },
      "source": [
        "Adding train and test masks"
      ]
    },
    {
      "cell_type": "code",
      "execution_count": 7,
      "metadata": {
        "id": "B2qm6WyW8y_g"
      },
      "outputs": [],
      "source": [
        "train_df = pd.read_csv('/content/drive/MyDrive/CS6208 Project/link_features/cl_drug_response_train.csv')\n",
        "test_df = pd.read_csv('/content/drive/MyDrive/CS6208 Project/link_features/cl_drug_response_test.csv')"
      ]
    },
    {
      "cell_type": "code",
      "execution_count": 8,
      "metadata": {
        "colab": {
          "base_uri": "https://localhost:8080/"
        },
        "id": "A1wGqbcC8312",
        "outputId": "b590c002-d850-4d72-89d1-50d70706e3a3"
      },
      "outputs": [
        {
          "output_type": "stream",
          "name": "stdout",
          "text": [
            "Num of unique genes: 27236 | Node indices: 0 to 27235\n",
            "\n"
          ]
        }
      ],
      "source": [
        "used_node_idx = 0\n",
        "node2idx_gene = {}\n",
        "\n",
        "gene_node_df = pd.read_csv('./drive/MyDrive/CS6208 Project/node_features/gene_node_features.csv')\n",
        "for gname in set(gene_node_df['genes'].tolist()):\n",
        "    # print(cl); break\n",
        "    node2idx_gene[gname] = used_node_idx\n",
        "    used_node_idx += 1\n",
        "\n",
        "print(\"Num of unique genes: {} | Node indices: {} to {}\\n\".format(used_node_idx, 0, used_node_idx-1))"
      ]
    },
    {
      "cell_type": "code",
      "execution_count": 9,
      "metadata": {
        "colab": {
          "base_uri": "https://localhost:8080/"
        },
        "id": "MN7d0Fe085cy",
        "outputId": "7e6ddd94-56ec-4ea5-eb1f-fdbf83b58f4b"
      },
      "outputs": [
        {
          "output_type": "stream",
          "name": "stdout",
          "text": [
            "Num of unique cell lines: 1710 | Node indices: 0 to 1709\n",
            "\n"
          ]
        }
      ],
      "source": [
        "used_node_idx = 0\n",
        "node2idx_cellLine = {}\n",
        "\n",
        "cell_line_nodes_df = pd.read_csv('/content/drive/MyDrive/CS6208 Project/node_features/cell_line_node_features.csv')\n",
        "for cl in set(cell_line_nodes_df['ModelID'].tolist()):\n",
        "    # print(cl); break\n",
        "    node2idx_cellLine[cl] = used_node_idx\n",
        "    used_node_idx += 1\n",
        "\n",
        "print(\"Num of unique cell lines: {} | Node indices: {} to {}\\n\".format(used_node_idx, 0, used_node_idx-1))"
      ]
    },
    {
      "cell_type": "code",
      "execution_count": 10,
      "metadata": {
        "colab": {
          "base_uri": "https://localhost:8080/"
        },
        "id": "jaAiB02r86gP",
        "outputId": "a96e8a8c-f0c8-4ada-e464-94ad8b8ecfa2"
      },
      "outputs": [
        {
          "output_type": "stream",
          "name": "stdout",
          "text": [
            "Num of unique drugs: 1889 | Node indices: 0 to 1888\n",
            "\n"
          ]
        }
      ],
      "source": [
        "used_node_idx = 0\n",
        "node2idx_drug = {}\n",
        "\n",
        "drug_node_df = pd.read_csv('/content/drive/MyDrive/CS6208 Project/node_features/drug_node_features.csv')\n",
        "for dname in set(drug_node_df['Name'].tolist()):\n",
        "    # print(cl); break\n",
        "    node2idx_drug[dname] = used_node_idx\n",
        "    used_node_idx += 1\n",
        "\n",
        "print(\"Num of unique drugs: {} | Node indices: {} to {}\\n\".format(used_node_idx, 0, used_node_idx-1))\n"
      ]
    },
    {
      "cell_type": "code",
      "execution_count": 11,
      "metadata": {
        "id": "59afB61g87pI"
      },
      "outputs": [],
      "source": [
        "from tqdm import tqdm"
      ]
    },
    {
      "cell_type": "code",
      "execution_count": 12,
      "metadata": {
        "id": "ZwkaaTiL89se"
      },
      "outputs": [],
      "source": [
        "def get_train_test_edge_masks(g):\n",
        "    df = pd.read_csv('/content/drive/MyDrive/CS6208 Project/link_features/cl_drug_response.csv')\n",
        "    feat_column_list = ['AUC']\n",
        "    num_feats = len(feat_column_list)\n",
        "\n",
        "    train_mask = []\n",
        "\n",
        "    for key, row in tqdm(df.iterrows()):\n",
        "        cl = row['DepMap_ID']\n",
        "        drug = row['DRUG_NAME']\n",
        "        \n",
        "        subset_df_train = train_df[(train_df.DepMap_ID == cl)&(train_df.DRUG_NAME == drug)]\n",
        "        subset_df_test = test_df[(test_df.DepMap_ID == cl)&(test_df.DRUG_NAME == drug)]\n",
        "        if len(subset_df_train) != 0:\n",
        "          train_mask.append(1)\n",
        "        else:\n",
        "          train_mask.append(0)\n",
        "    train_mask = torch.tensor(train_mask)\n",
        "    test_mask = 1 - train_mask\n",
        "    g.edges[('cell_line', 'response', 'drug')].data[\"train_mask\"] = train_mask\n",
        "    g.edges[('cell_line', 'response', 'drug')].data[\"test_mask\"] = test_mask\n",
        "    return g"
      ]
    },
    {
      "cell_type": "code",
      "execution_count": 13,
      "metadata": {
        "colab": {
          "base_uri": "https://localhost:8080/"
        },
        "id": "VN21fHJA9CIS",
        "outputId": "e058c84c-485f-46a7-b6fc-7d314762bdc2"
      },
      "outputs": [
        {
          "output_type": "stream",
          "name": "stderr",
          "text": [
            "45083it [07:03, 106.47it/s]\n"
          ]
        }
      ],
      "source": [
        "g = get_train_test_edge_masks(g)"
      ]
    },
    {
      "cell_type": "code",
      "execution_count": 14,
      "metadata": {
        "colab": {
          "base_uri": "https://localhost:8080/"
        },
        "id": "VY5FPokA9D8S",
        "outputId": "ac0b81c3-78a8-447f-a4c9-e061650a7179"
      },
      "outputs": [
        {
          "output_type": "stream",
          "name": "stdout",
          "text": [
            "('cell_line', 'mutates', 'gene')\n",
            "('cell_line', 'response', 'drug')\n",
            "('drug', 'interacts', 'drug')\n",
            "('drug', 'interacts', 'gene')\n",
            "('gene', 'interacts', 'gene')\n",
            "('cell_line', 'mutates', 'gene')\n",
            "('cell_line', 'response', 'drug')\n",
            "('drug', 'interacts', 'drug')\n",
            "('drug', 'interacts', 'gene')\n",
            "('gene', 'interacts', 'gene')\n"
          ]
        }
      ],
      "source": [
        "# create a new heterograph with reverse edges added in\n",
        "# https://discuss.dgl.ai/t/dglheterograph-how-to-add-new-edge-types-especially-reverse-edges/1408/6\n",
        "def add_reverse_hetero(g):\n",
        "    relations = {}\n",
        "    num_nodes_dict = {ntype: g.num_nodes(ntype) for ntype in g.ntypes}\n",
        "    for metapath in [('cell_line', 'mutates', 'gene'), ('cell_line', 'response', 'drug'), ('drug', 'interacts', 'drug'), \\\n",
        "                         ('drug', 'interacts', 'gene'), ('gene', 'interacts', 'gene')]:\n",
        "        # Original edges\n",
        "        print(metapath)\n",
        "        src, dst = g.all_edges(etype=metapath)\n",
        "        relations[metapath] = (src, dst)\n",
        "\n",
        "        reverse_metapath = (metapath[2], metapath[1] + '_by', metapath[0])\n",
        "        relations[reverse_metapath] = (dst, src)           # Reverse edges\n",
        "\n",
        "    new_g = dgl.heterograph(relations, num_nodes_dict=num_nodes_dict)\n",
        "\n",
        "    # copy_ndata:\n",
        "    for ntype in g.ntypes:\n",
        "        for k, v in g.nodes[ntype].data.items():\n",
        "            new_g.nodes[ntype].data[k] = v.detach().clone()\n",
        "\n",
        "    # copy edata\n",
        "    # new_g.edges[('cell_line', 'mutates', 'gene')].data[\"he\"] = g.edges[('cell_line', 'mutates', 'gene')].data[\"he\"]\n",
        "    for e in [('cell_line', 'mutates', 'gene'), ('cell_line', 'response', 'drug'), ('drug', 'interacts', 'drug'), \\\n",
        "                         ('drug', 'interacts', 'gene'), ('gene', 'interacts', 'gene')]:\n",
        "        print(e)\n",
        "        for k, v in g.edges[e].data.items():\n",
        "            new_g.edges[e].data[k] = v.detach().clone()\n",
        "            new_g.edges[(e[2], e[1]+ \"_by\", e[0])].data[k] = v.detach().clone()\n",
        "        # new_g.edges[eval(f\"({e[2]}, {e[1]}+ '_by', {e[0]})\")].data[\"he\"] = g.edges(e).data[\"he\"]\n",
        "        # new_g.edges[eval(e)].data[\"he\"] = g.edges(e).data[\"he\"]\n",
        "\n",
        "    return new_g\n",
        "    \n",
        "g_with_reverse_edges = add_reverse_hetero(g)"
      ]
    },
    {
      "cell_type": "code",
      "execution_count": 15,
      "metadata": {
        "colab": {
          "base_uri": "https://localhost:8080/"
        },
        "id": "BbT4k8mS-cQK",
        "outputId": "6bbe4afa-187a-4360-c26a-4efa1549572b"
      },
      "outputs": [
        {
          "output_type": "execute_result",
          "data": {
            "text/plain": [
              "Graph(num_nodes={'cell_line': 1710, 'drug': 1889, 'gene': 27236},\n",
              "      num_edges={('cell_line', 'mutates', 'gene'): 1183425, ('cell_line', 'response', 'drug'): 45083, ('drug', 'interacts', 'drug'): 44104, ('drug', 'interacts', 'gene'): 11370, ('drug', 'interacts_by', 'drug'): 44104, ('drug', 'response_by', 'cell_line'): 45083, ('gene', 'interacts', 'gene'): 11937785, ('gene', 'interacts_by', 'drug'): 11370, ('gene', 'interacts_by', 'gene'): 11937785, ('gene', 'mutates_by', 'cell_line'): 1183425},\n",
              "      metagraph=[('cell_line', 'gene', 'mutates'), ('cell_line', 'drug', 'response'), ('gene', 'gene', 'interacts'), ('gene', 'gene', 'interacts_by'), ('gene', 'drug', 'interacts_by'), ('gene', 'cell_line', 'mutates_by'), ('drug', 'drug', 'interacts'), ('drug', 'drug', 'interacts_by'), ('drug', 'gene', 'interacts'), ('drug', 'cell_line', 'response_by')])"
            ]
          },
          "metadata": {},
          "execution_count": 15
        }
      ],
      "source": [
        "g_with_reverse_edges"
      ]
    },
    {
      "cell_type": "code",
      "execution_count": 16,
      "metadata": {
        "id": "LE5-wcZd-jMH"
      },
      "outputs": [],
      "source": [
        "g_with_reverse_edges.nodes[\"cell_line\"].data[\"hv\"] = g_with_reverse_edges.nodes[\"cell_line\"].data[\"hv\"].to(torch.float32)\n",
        "g_with_reverse_edges.nodes[\"drug\"].data[\"hv\"] = g_with_reverse_edges.nodes[\"drug\"].data[\"hv\"].to(torch.float32)\n",
        "g_with_reverse_edges.nodes[\"gene\"].data[\"hv\"] = g_with_reverse_edges.nodes[\"gene\"].data[\"hv\"].to(torch.float32)"
      ]
    },
    {
      "cell_type": "code",
      "execution_count": 17,
      "metadata": {
        "id": "Nv0eW5LEa_6t"
      },
      "outputs": [],
      "source": [
        "g_with_reverse_edges.nodes[\"cell_line\"].data[\"ntype\"] = torch.Tensor([0]* 1710)\n",
        "g_with_reverse_edges.nodes[\"drug\"].data[\"ntype\"] = torch.Tensor([1]*1889)\n",
        "g_with_reverse_edges.nodes[\"gene\"].data[\"ntype\"] = torch.Tensor([2]*27236)"
      ]
    },
    {
      "cell_type": "code",
      "execution_count": 18,
      "metadata": {
        "id": "QwTJQor-FASr"
      },
      "outputs": [],
      "source": [
        "g_with_reverse_edges.edges[('cell_line', 'mutates', 'gene')].data[\"etype\"] = torch.Tensor([0]* 1183425) \n",
        "g_with_reverse_edges.edges[('gene', 'mutates_by', 'cell_line')].data[\"etype\"] = torch.Tensor([1]* 1183425)  # Gene(s) -----> Cell line(t) Linear2\n",
        "g_with_reverse_edges.edges[('cell_line', 'response', 'drug')].data[\"etype\"] = torch.Tensor([2]* 45083)  # Cell line(s) -----> Drug(t) Linear3\n",
        "g_with_reverse_edges.edges[('drug', 'response_by', 'cell_line')].data[\"etype\"] = torch.Tensor([3]* 45083)  # Drug(s) -----> Cell line(t) Linear4\n",
        "g_with_reverse_edges.edges[('drug', 'interacts', 'drug')].data[\"etype\"] = torch.Tensor([4]* 44104)  # Drug(s) -----> Drug(t) Linear5\n",
        "g_with_reverse_edges.edges[('drug', 'interacts_by', 'drug')].data[\"etype\"] = torch.Tensor([4]* 44104)  # Drug(s) -----> Drug(t) Linear5\n",
        "g_with_reverse_edges.edges[('drug', 'interacts', 'gene')].data[\"etype\"] = torch.Tensor([5]* 11370)  # Drug(s) -----> Gene(t) Linear6\n",
        "g_with_reverse_edges.edges[('gene', 'interacts_by', 'drug')].data[\"etype\"] = torch.Tensor([6]* 11370)  # Gene(s) -----> Drug(t) Linear7\n",
        "g_with_reverse_edges.edges[('gene', 'interacts', 'gene')].data[\"etype\"] = torch.Tensor([7]* 11937785)  # Gene(s) -----> Gene(t) Linear8\n",
        "g_with_reverse_edges.edges[('gene', 'interacts_by', 'gene')].data[\"etype\"] = torch.Tensor([7]* 11937785) "
      ]
    },
    {
      "cell_type": "code",
      "execution_count": 19,
      "metadata": {
        "id": "_yUJ8wHYIMZL"
      },
      "outputs": [],
      "source": [
        "g_with_reverse_edges.edges[('cell_line', 'mutates', 'gene')].data[\"prev_att\"] = torch.zeros(1183425, 8)\n",
        "g_with_reverse_edges.edges[('gene', 'mutates_by', 'cell_line')].data[\"prev_att\"] = torch.zeros(1183425, 8)\n",
        "g_with_reverse_edges.edges[('cell_line', 'response', 'drug')].data[\"prev_att\"] = torch.zeros(45083, 8)\n",
        "g_with_reverse_edges.edges[('drug', 'response_by', 'cell_line')].data[\"prev_att\"] = torch.zeros(45083, 8)\n",
        "g_with_reverse_edges.edges[('drug', 'interacts', 'drug')].data[\"prev_att\"] = torch.zeros(44104, 8)\n",
        "g_with_reverse_edges.edges[('drug', 'interacts_by', 'drug')].data[\"prev_att\"] = torch.zeros(44104, 8)\n",
        "g_with_reverse_edges.edges[('drug', 'interacts', 'gene')].data[\"prev_att\"] = torch.zeros(11370, 8)\n",
        "g_with_reverse_edges.edges[('gene', 'interacts_by', 'drug')].data[\"prev_att\"] = torch.zeros(11370, 8)\n",
        "g_with_reverse_edges.edges[('gene', 'interacts', 'gene')].data[\"prev_att\"] = torch.zeros(11937785, 8)\n",
        "g_with_reverse_edges.edges[('gene', 'interacts_by', 'gene')].data[\"prev_att\"] = torch.zeros(11937785, 8)"
      ]
    },
    {
      "cell_type": "code",
      "execution_count": 20,
      "metadata": {
        "id": "VJ36kGpNLzZ1"
      },
      "outputs": [],
      "source": [
        "g_with_reverse_edges.edges[('drug', 'interacts_by', 'drug')].data['he'] = g_with_reverse_edges.edges[('drug', 'interacts', 'drug')].data['he']\n",
        "g_with_reverse_edges.edges[('gene', 'interacts_by', 'gene')].data['he'] = g_with_reverse_edges.edges[('gene', 'interacts', 'gene')].data['he']"
      ]
    },
    {
      "cell_type": "code",
      "execution_count": 21,
      "metadata": {
        "colab": {
          "base_uri": "https://localhost:8080/"
        },
        "id": "fpDWgZ32VhJN",
        "outputId": "44de2b99-68e3-488b-a172-14c61d075fe3"
      },
      "outputs": [
        {
          "output_type": "execute_result",
          "data": {
            "text/plain": [
              "tensor([[155.],\n",
              "        [255.],\n",
              "        [153.],\n",
              "        ...,\n",
              "        [519.],\n",
              "        [520.],\n",
              "        [316.]])"
            ]
          },
          "metadata": {},
          "execution_count": 21
        }
      ],
      "source": [
        "g_with_reverse_edges.edges[('gene', 'interacts_by', 'gene')].data['he'].to(torch.float32)\n",
        "g_with_reverse_edges.edges[('drug', 'interacts_by', 'drug')].data['he'].to(torch.float32)\n",
        "g_with_reverse_edges.edges[('drug', 'interacts', 'drug')].data[\"he\"].to(torch.float32)\n",
        "g_with_reverse_edges.edges[('gene', 'interacts', 'gene')].data['he'].to(torch.float32)"
      ]
    },
    {
      "cell_type": "code",
      "execution_count": 22,
      "metadata": {
        "id": "9a0YdXeI-sBj"
      },
      "outputs": [],
      "source": [
        "import dgl.nn as dglnn"
      ]
    },
    {
      "cell_type": "code",
      "execution_count": 23,
      "metadata": {
        "id": "UT8sLEbUS5Lo"
      },
      "outputs": [],
      "source": [
        "import dgl.function as fn"
      ]
    },
    {
      "cell_type": "code",
      "execution_count": 24,
      "metadata": {
        "id": "OFp98Kx5DXfu"
      },
      "outputs": [],
      "source": [
        "d={ \n",
        "      ('cell_line', 'mutates', 'gene'): None,\n",
        "      ('gene', 'mutates_by', 'cell_line'): None,\n",
        "      ('cell_line', 'response', 'drug'): None,\n",
        "      ('drug', 'response_by', 'cell_line'): None,\n",
        "      ('drug', 'interacts', 'drug'): 5,\n",
        "      ('drug', 'interacts_by', 'drug'): 5,\n",
        "      ('drug', 'interacts', 'gene'): None,\n",
        "      ('gene', 'interacts', 'gene'): 1,\n",
        "      ('gene', 'interacts_by', 'gene'): 1,\n",
        "      ('gene', 'interacts_by', 'drug'): None,\n",
        "    }"
      ]
    },
    {
      "cell_type": "code",
      "execution_count": 25,
      "metadata": {
        "colab": {
          "base_uri": "https://localhost:8080/"
        },
        "id": "L3DXk0d1DdZj",
        "outputId": "c00e3907-70d0-4830-97cb-14f68dc1331a"
      },
      "outputs": [
        {
          "output_type": "execute_result",
          "data": {
            "text/plain": [
              "True"
            ]
          },
          "metadata": {},
          "execution_count": 25
        }
      ],
      "source": [
        "d[('cell_line', 'mutates', 'gene')] == None"
      ]
    },
    {
      "cell_type": "code",
      "execution_count": 26,
      "metadata": {
        "id": "9lyA4S0T-uVd"
      },
      "outputs": [],
      "source": [
        "class NodeEmbedder(nn.Module):\n",
        "  r\"\"\"\n",
        "  Inputs for init():\n",
        "  in_feat_dim: dict of node feature dimensions\n",
        "    For 0th layer:\n",
        "    Eg: {\"cell_line\": 42, \"drug\": 2048, \"gene\": 3090}\n",
        "    For any layer l, l!= 0\n",
        "    Eg: {\"cell_line\": 32, \"drug\": 16, \"gene\": 16}\n",
        "  out_feat_dim: dict of output node feature dimensions\n",
        "    For 0th layer:\n",
        "    Eg: {\"cell_line\": 32, \"drug\": 16, \"gene\": 16}\n",
        "    For any layer l, l!= 0\n",
        "    Eg: {\"cell_line\": 16, \"drug\": 8, \"gene\": 8}\n",
        "  edge_feat_dim: dict of edge feature dimensions\n",
        "    For all layers\n",
        "    Eg: {\n",
        "      ('cell_line', 'mutates', 'gene'): None, # Cell line(s) -----> Gene(t) Linear1\n",
        "      ('gene', 'mutates_by', 'cell_line'): None, # Gene(s) -----> Cell line(t) Linear2\n",
        "      ('cell_line', 'response', 'drug'): None, # Cell line(s) -----> Drug(t) Linear3\n",
        "      ('drug', 'response_by', 'cell_line'): None, # Drug(s) -----> Cell line(t) Linear4\n",
        "      ('drug', 'interacts', 'drug'): 5, # Drug(s) -----> Drug(t) Linear5\n",
        "      ('drug', 'interacts_by', 'drug'): 5, # Drug(s) -----> Drug(t) Linear5\n",
        "      ('drug', 'interacts', 'gene'): None, # Drug(s) -----> Gene(t) Linear6\n",
        "      ('gene', 'interacts_by', 'drug'): None, # Gene(s) -----> Drug(t) Linear7\n",
        "      ('gene', 'interacts', 'gene'): 1, # Gene(s) -----> Gene(t) Linear8\n",
        "      ('gene', 'interacts_by', 'gene'): 1, # Gene(s) -----> Gene(t) Linear8\n",
        "      }\n",
        "  \n",
        "  prev_att_feat_dim: dict of previous layer's attention dimensions\n",
        "    For any layer l\n",
        "    dimension here matches dimension of source node feature from layer l-1\n",
        "    Eg: {\n",
        "      ('cell_line', 'mutates', 'gene'): 32, # Cell line(s) -----> Gene(t) Linear1\n",
        "      ('gene', 'mutates_by', 'cell_line'): 16, # Gene(s) -----> Cell line(t) Linear2\n",
        "      ('cell_line', 'response', 'drug'): 32, # Cell line(s) -----> Drug(t) Linear3\n",
        "      ('drug', 'response_by', 'cell_line'): 16, # Drug(s) -----> Cell line(t) Linear4\n",
        "      ('drug', 'interacts', 'drug'): 16, # Drug(s) -----> Drug(t) Linear5\n",
        "      ('drug', 'interacts_by', 'drug'): 16, # Drug(s) -----> Drug(t) Linear5\n",
        "      ('drug', 'interacts', 'gene'): 16, # Drug(s) -----> Gene(t) Linear6\n",
        "      ('gene', 'interacts_by', 'drug'): 16, # Gene(s) -----> Drug(t) Linear7\n",
        "      ('gene', 'interacts', 'gene'): 16, # Gene(s) -----> Gene(t) Linear8\n",
        "      ('gene', 'interacts_by', 'gene'): 16, # Gene(s) -----> Gene(t) Linear8\n",
        "      }\n",
        "  Inputs for forward():\n",
        "  in_feat: dict of node features - used to infer node feature dimension\n",
        "  out_feat_dim: dict of output node feature dimensions\n",
        "  edge_feat: dict of edge features - used to infer edge feature dimension\n",
        "  Note:\n",
        "  .. math::\n",
        "    a_{st}^{l} dimension = h_{s}^{l} dimension to perform dot product for attention\n",
        "\n",
        "    a_{st}^{l} = Linear_{e}(h_{s}||h_{t}||a_{st}^{l-1}||e_{st})\n",
        "\n",
        "  Output:\n",
        "  node features h_{i} for all nodes with dimensions as described in out_feat_dim\n",
        "\n",
        "  \"\"\"\n",
        "  def __init__(self, in_feat_dim, out_feat_dim, edge_feat_dim):\n",
        "    super().__init__()\n",
        "    # For attention calculation\n",
        "    self.att_layers = []\n",
        "    self.rels = []\n",
        "    for k,v in edge_feat_dim.items():\n",
        "      print(k)\n",
        "      if (k == ('drug', 'interacts_by', 'drug')) or (k == ('gene', 'interacts_by', 'gene')): # reuse older layer\n",
        "        continue\n",
        "      source = k[0]\n",
        "      destination = k[2]\n",
        "      source_dim = in_feat_dim[source]\n",
        "      destination_dim = in_feat_dim[destination]\n",
        "      edge_dim = edge_feat_dim[k]\n",
        "      if edge_dim == None:\n",
        "        edge_dim = 0\n",
        "      prev_attention_dim = source_dim # for dot product to work\n",
        "      overall_in_dim = source_dim + destination_dim + edge_dim + prev_attention_dim\n",
        "      overall_out_dim = source_dim\n",
        "      self.att_layers.append(nn.Linear(overall_in_dim, overall_out_dim))\n",
        "      self.rels.append(k)\n",
        "    self.node_linear_layers = [] # Change this part for different node-edge configurations\n",
        "    # self.node_linear_layers.append(nn.Linear(in_feat_dim[\"drug\"] + in_feat_dim[\"gene\"], out_feat_dim[\"cell_line\"]))\n",
        "    # self.node_linear_layers.append(nn.Linear(in_feat_dim[\"drug\"] + in_feat_dim[\"cell_line\"] + in_feat_dim[\"gene\"], out_feat_dim[\"drug\"]))\n",
        "    # self.node_linear_layers.append(nn.Linear(in_feat_dim[\"drug\"] + in_feat_dim[\"cell_line\"] + in_feat_dim[\"gene\"], out_feat_dim[\"gene\"]))\n",
        "    self.node_linear_layers.append(nn.Linear(in_feat_dim[\"cell_line\"], in_feat_dim[\"cell_line\"]))\n",
        "    self.node_linear_layers.append(nn.Linear(in_feat_dim[\"drug\"], in_feat_dim[\"drug\"]))\n",
        "    self.node_linear_layers.append(nn.Linear(in_feat_dim[\"gene\"], in_feat_dim[\"gene\"]))\n",
        "    self.final_linear = []\n",
        "    self.final_linear.append(nn.Linear(in_feat_dim[\"cell_line\"], out_feat_dim[\"cell_line\"]))\n",
        "    self.final_linear.append(nn.Linear(in_feat_dim[\"drug\"], out_feat_dim[\"drug\"]))\n",
        "    self.final_linear.append(nn.Linear(in_feat_dim[\"gene\"], out_feat_dim[\"gene\"]))\n",
        "\n",
        "    \n",
        "  def update_e_ij(self, edges):\n",
        "    # return edge features after update\n",
        "    # print(edges.src[\"z\"].shape)\n",
        "    # print(edges.dst[\"z\"].shape)\n",
        "    # print(edges.data[\"prev_att\"].shape)\n",
        "    edge_type = int(edges.data[\"etype\"][0].detach().item())\n",
        "    # print(edge_type)\n",
        "    if edge_type in [0, 1, 2, 3, 5, 6]: # not gene-gene or drug-drug i.e. no edge features\n",
        "      return {\"e_ij\": self.att_layers[edge_type]((torch.cat([edges.src['z'], edges.dst['z'], edges.data[\"prev_att\"]], dim=1)))}\n",
        "    # print(edges.data[\"he\"].shape)\n",
        "    # print(self.att_layers[edge_type])\n",
        "    return {\"e_ij\": self.att_layers[edge_type](torch.cat([edges.src['z'], edges.dst['z'], edges.data[\"prev_att\"], edges.data[\"he\"]], dim=1).to(torch.float32))}\n",
        "\n",
        "  \n",
        "  def reduce_func(self, nodes):\n",
        "    alpha_ij = nodes.mailbox[\"prev_att\"]\n",
        "    # print(\"alpha\")\n",
        "    # print(alpha_ij.shape)\n",
        "    # if alpha_ij.dim() > 2:\n",
        "    #   alpha_ij = alpha_ij.sum(dim=1).view(-1, nodes.mailbox[\"prev_att\"].shape[-1])\n",
        "    # inp = torch.cat(alpha_ij, dim=1) # combine all incoming messages\n",
        "    # inp = torch.sum([alpha_ij], dim = 0)\n",
        "    inp = nodes.mailbox[\"z\"]\n",
        "    ntype = int(nodes.data[\"ntype\"][0].detach().item())\n",
        "    # print(\"ntype\")\n",
        "    # print(ntype)\n",
        "    # print(\"inp\")\n",
        "    # print(inp.shape)\n",
        "    # print(\"after node linear\")\n",
        "    # print(self.node_linear_layers[ntype](inp).shape)\n",
        "    # print((alpha_ij * self.node_linear_layers[ntype](inp)).shape)\n",
        "    h = nn.LeakyReLU()(self.final_linear[ntype]((alpha_ij * self.node_linear_layers[ntype](inp)).mean(dim=1).squeeze(1)))\n",
        "    \n",
        "    return {\"h\": h}\n",
        "\n",
        "  def message_func(self, edges):\n",
        "    return {\"z\": edges.src[\"z\"], \"prev_att\": edges.data[\"e_ij\"]}# * edges.src[\"z\"]}\n",
        "\n",
        "  def forward(self, g, h):\n",
        "    # do the edge and node update for each type\n",
        "    with g.local_scope(): # to prevent changes from going back to the original graph\n",
        "      g.ndata[\"z\"] = h\n",
        "      for et in self.rels:\n",
        "        g.apply_edges(self.update_e_ij, etype=et)\n",
        "      # g.update_all(self.message_func, self.reduce_func)\n",
        "      # g.multi_update_all({rel: (fn.u_mul_e('z', 'e_ij', 'm'), self.reduce_func) for rel in self.rels})\n",
        "      g.multi_update_all({rel: (self.message_func, self.reduce_func) for rel in self.rels}, \"sum\")\n",
        "      # g.update_all(fn.copy_u('z', 'z'), fn.)\n",
        "      # g.edata[\"prev_att\"] = g.edata[\"e_ij\"]\n",
        "\n",
        "      return g.ndata[\"h\"]"
      ]
    },
    {
      "cell_type": "code",
      "execution_count": 27,
      "metadata": {
        "id": "lIuR-jHKR9lr"
      },
      "outputs": [],
      "source": [
        "in_feat_dim = {\"cell_line\": 8, \"drug\": 8, \"gene\": 8}\n",
        "out_feat_dim = {\"cell_line\": 4, \"drug\": 4, \"gene\": 4}\n",
        "edge_feat_dim = {\n",
        "      ('cell_line', 'mutates', 'gene'): None, # Cell line(s) -----> Gene(t) Linear1\n",
        "      ('gene', 'mutates_by', 'cell_line'): None, # Gene(s) -----> Cell line(t) Linear2\n",
        "      ('cell_line', 'response', 'drug'): None, # Cell line(s) -----> Drug(t) Linear3\n",
        "      ('drug', 'response_by', 'cell_line'): None, # Drug(s) -----> Cell line(t) Linear4\n",
        "      ('drug', 'interacts', 'drug'): 5, # Drug(s) -----> Drug(t) Linear5\n",
        "      ('drug', 'interacts_by', 'drug'): 5, # Drug(s) -----> Drug(t) Linear5\n",
        "      ('drug', 'interacts', 'gene'): None, # Drug(s) -----> Gene(t) Linear6\n",
        "      ('gene', 'interacts_by', 'drug'): None, # Gene(s) -----> Drug(t) Linear7\n",
        "      ('gene', 'interacts', 'gene'): 1, # Gene(s) -----> Gene(t) Linear8\n",
        "      ('gene', 'interacts_by', 'gene'): 1, # Gene(s) -----> Gene(t) Linear8\n",
        "      }"
      ]
    },
    {
      "cell_type": "code",
      "execution_count": 28,
      "metadata": {
        "id": "NihBm6IASm-i"
      },
      "outputs": [],
      "source": [
        "class CellLineDrugLinkPredictor(nn.Module):\n",
        "    def __init__(self, in_dim):\n",
        "        super().__init__()\n",
        "        self.W = nn.Linear(in_dim, 1)\n",
        "\n",
        "    def apply_edges(self, edges):\n",
        "        print(edges.src['h'].shape)\n",
        "        print(edges.dst['h'].shape)\n",
        "        x = torch.cat([edges.src['h'].view(edges.src[\"h\"].shape[0], -1), edges.dst['h'].view(edges.dst[\"h\"].shape[0], -1)], 1)\n",
        "        y = nn.Sigmoid()(self.W(x))\n",
        "        return {'score': y}\n",
        "\n",
        "    def forward(self, graph, h, etype):\n",
        "        # h contains the node representations for each edge type computed from\n",
        "        # the RGCN above.\n",
        "        with graph.local_scope():\n",
        "            graph.ndata['h'] = h   # assigns 'h' of all node types in one shot\n",
        "            # print(h.shape)\n",
        "            # graph.apply_edges(fn.u_dot_v('hv', 'hv', 'score'), etype=etype)\n",
        "            graph.apply_edges(self.apply_edges, etype=etype)\n",
        "            return graph.edges[etype].data['score']"
      ]
    },
    {
      "cell_type": "code",
      "execution_count": 29,
      "metadata": {
        "id": "tINgHBtVRzbx"
      },
      "outputs": [],
      "source": [
        "class Model(nn.Module):\n",
        "    def __init__(self, in_feat_dim, out_feat_dim, edge_feat_dim, in_features):\n",
        "        super().__init__()\n",
        "        self.ne = NodeEmbedder(in_feat_dim, out_feat_dim, edge_feat_dim)\n",
        "        combined_features = out_feat_dim[\"cell_line\"] + out_feat_dim[\"drug\"]\n",
        "        print(combined_features)\n",
        "        self.pred = CellLineDrugLinkPredictor(combined_features)\n",
        "        self.cell_line_node_feature_converter = nn.Linear(g.nodes[\"cell_line\"].data[\"hv\"].shape[1], in_features)\n",
        "        self.gene_node_feature_converter = nn.Linear(g.nodes[\"gene\"].data[\"hv\"].shape[1], in_features)\n",
        "        self.drug_node_feature_converter = nn.Linear(g.nodes[\"drug\"].data[\"hv\"].shape[1], in_features)\n",
        "\n",
        "    def forward(self, g, etype):\n",
        "        # Convert all node features to the same size\n",
        "        cl_node_features = self.cell_line_node_feature_converter(g.nodes[\"cell_line\"].data[\"hv\"])\n",
        "        gene_node_features = self.gene_node_feature_converter(g.nodes[\"gene\"].data[\"hv\"])\n",
        "        drug_node_features = self.drug_node_feature_converter(g.nodes[\"drug\"].data[\"hv\"])\n",
        "        x = {\"cell_line\": cl_node_features, \"gene\": gene_node_features, \"drug\": drug_node_features}\n",
        "        h = self.ne(g, x)\n",
        "        \n",
        "        return self.pred(g, h, etype)"
      ]
    },
    {
      "cell_type": "code",
      "execution_count": 49,
      "metadata": {
        "colab": {
          "base_uri": "https://localhost:8080/"
        },
        "id": "Vgi2FHmcTXEa",
        "outputId": "90b5b115-82ea-4837-be77-fe264e5f3839"
      },
      "outputs": [
        {
          "output_type": "stream",
          "name": "stdout",
          "text": [
            "('cell_line', 'mutates', 'gene')\n",
            "('gene', 'mutates_by', 'cell_line')\n",
            "('cell_line', 'response', 'drug')\n",
            "('drug', 'response_by', 'cell_line')\n",
            "('drug', 'interacts', 'drug')\n",
            "('drug', 'interacts_by', 'drug')\n",
            "('drug', 'interacts', 'gene')\n",
            "('gene', 'interacts_by', 'drug')\n",
            "('gene', 'interacts', 'gene')\n",
            "('gene', 'interacts_by', 'gene')\n",
            "8\n"
          ]
        }
      ],
      "source": [
        "m = Model(in_feat_dim, out_feat_dim, edge_feat_dim, 8)"
      ]
    },
    {
      "cell_type": "code",
      "execution_count": 50,
      "metadata": {
        "id": "T-cHluy7Tegd"
      },
      "outputs": [],
      "source": [
        "# g_with_reverse_edges.nodes[\"cell_line\"].data[\"hv\"].shape"
      ]
    },
    {
      "cell_type": "code",
      "execution_count": 51,
      "metadata": {
        "id": "RbEU0UeNqGkQ"
      },
      "outputs": [],
      "source": [
        "# m.cell_line_node_feature_converter"
      ]
    },
    {
      "cell_type": "code",
      "execution_count": 52,
      "metadata": {
        "id": "plDyap46U2na"
      },
      "outputs": [],
      "source": [
        "# g_updated = m(g_with_reverse_edges, ('cell_line', 'response', 'drug'))"
      ]
    },
    {
      "cell_type": "code",
      "execution_count": 53,
      "metadata": {
        "id": "wzWLkSu9qv_S"
      },
      "outputs": [],
      "source": [
        "# g_updated"
      ]
    },
    {
      "cell_type": "code",
      "execution_count": 54,
      "metadata": {
        "colab": {
          "base_uri": "https://localhost:8080/"
        },
        "id": "O_42BI8SUY_N",
        "outputId": "aec7b52a-9648-4dc1-b184-120a6683b0aa"
      },
      "outputs": [
        {
          "output_type": "stream",
          "name": "stdout",
          "text": [
            "torch.Size([45083, 4])\n",
            "torch.Size([45083, 4])\n",
            "0.23621302753736012\n",
            "torch.Size([45083, 4])\n",
            "torch.Size([45083, 4])\n",
            "0.21574396089549117\n",
            "torch.Size([45083, 4])\n",
            "torch.Size([45083, 4])\n",
            "0.19105565069784755\n",
            "torch.Size([45083, 4])\n",
            "torch.Size([45083, 4])\n",
            "0.1582263146426002\n",
            "torch.Size([45083, 4])\n",
            "torch.Size([45083, 4])\n",
            "0.11430713541502942\n",
            "torch.Size([45083, 4])\n",
            "torch.Size([45083, 4])\n",
            "0.07710938314369503\n",
            "torch.Size([45083, 4])\n",
            "torch.Size([45083, 4])\n",
            "0.05455770438948459\n",
            "torch.Size([45083, 4])\n",
            "torch.Size([45083, 4])\n",
            "0.045497636348379465\n",
            "torch.Size([45083, 4])\n",
            "torch.Size([45083, 4])\n",
            "0.04303910178018048\n",
            "torch.Size([45083, 4])\n",
            "torch.Size([45083, 4])\n",
            "0.042995593845774366\n",
            "torch.Size([45083, 4])\n",
            "torch.Size([45083, 4])\n",
            "0.04367371723793295\n",
            "torch.Size([45083, 4])\n",
            "torch.Size([45083, 4])\n",
            "0.04441007805186938\n",
            "torch.Size([45083, 4])\n",
            "torch.Size([45083, 4])\n",
            "0.0449956552280878\n",
            "torch.Size([45083, 4])\n",
            "torch.Size([45083, 4])\n",
            "0.04541208913230693\n",
            "torch.Size([45083, 4])\n",
            "torch.Size([45083, 4])\n",
            "0.04569584123953037\n"
          ]
        }
      ],
      "source": [
        "opt = torch.optim.Adam(m.parameters(), lr=1e-3)\n",
        "train_idx = g_with_reverse_edges.edges[('cell_line', 'response', 'drug')].data['train_mask'].nonzero().view(-1)\n",
        "label = g_with_reverse_edges.edges[('cell_line', 'response', 'drug')].data['he']\n",
        "for epoch in range(15):\n",
        "    pred = m(g_with_reverse_edges, ('cell_line', 'response', 'drug'))\n",
        "    # print((pred < 0).sum())\n",
        "    loss = ((pred.view(-1)[train_idx] - label.view(-1)[train_idx]) ** 2).mean()\n",
        "    opt.zero_grad()\n",
        "    loss.backward()\n",
        "    opt.step()\n",
        "    print(loss.item())"
      ]
    },
    {
      "cell_type": "code",
      "execution_count": 55,
      "metadata": {
        "colab": {
          "base_uri": "https://localhost:8080/"
        },
        "id": "9vSrhgWticpR",
        "outputId": "e25d0331-95dd-45ea-a443-da4814cdd24e"
      },
      "outputs": [
        {
          "output_type": "stream",
          "name": "stdout",
          "text": [
            "torch.Size([45083, 4])\n",
            "torch.Size([45083, 4])\n"
          ]
        }
      ],
      "source": [
        "test_idx = g_with_reverse_edges.edges[('cell_line', 'response', 'drug')].data['test_mask'].nonzero().view(-1)\n",
        "test_preds = m(g_with_reverse_edges, ('cell_line', 'response', 'drug')).view(-1)[test_idx]"
      ]
    },
    {
      "cell_type": "code",
      "execution_count": 56,
      "metadata": {
        "colab": {
          "base_uri": "https://localhost:8080/"
        },
        "id": "skpeSy2c3kfe",
        "outputId": "23756369-930f-4118-84fe-fb2d34e27947"
      },
      "outputs": [
        {
          "output_type": "execute_result",
          "data": {
            "text/plain": [
              "tensor(0.0391, dtype=torch.float64, grad_fn=<MseLossBackward0>)"
            ]
          },
          "metadata": {},
          "execution_count": 56
        }
      ],
      "source": [
        "nn.MSELoss()(test_preds, label.view(-1)[test_idx])"
      ]
    },
    {
      "cell_type": "code",
      "execution_count": 57,
      "metadata": {
        "colab": {
          "base_uri": "https://localhost:8080/"
        },
        "id": "-rNZ7IRf3oBq",
        "outputId": "ece888bd-8a38-40c3-fe59-241a94d9b84d"
      },
      "outputs": [
        {
          "output_type": "execute_result",
          "data": {
            "text/plain": [
              "SignificanceResult(statistic=-0.13630940883013856, pvalue=8.529229274440063e-45)"
            ]
          },
          "metadata": {},
          "execution_count": 57
        }
      ],
      "source": [
        "from scipy.stats import pearsonr, spearmanr\n",
        "spearmanr(test_preds.view(-1).detach().cpu().numpy(), label.view(-1)[test_idx].detach().cpu().numpy())"
      ]
    },
    {
      "cell_type": "code",
      "execution_count": 58,
      "metadata": {
        "colab": {
          "base_uri": "https://localhost:8080/"
        },
        "id": "RlgZ0Fsm3qaN",
        "outputId": "ffbea904-c211-4f36-aec5-14b1143ea11e"
      },
      "outputs": [
        {
          "output_type": "execute_result",
          "data": {
            "text/plain": [
              "PearsonRResult(statistic=-0.10289467431635829, pvalue=3.731877284703686e-26)"
            ]
          },
          "metadata": {},
          "execution_count": 58
        }
      ],
      "source": [
        "pearsonr(test_preds.view(-1).detach().cpu().numpy(), label.view(-1)[test_idx].detach().cpu().numpy())"
      ]
    },
    {
      "cell_type": "code",
      "execution_count": 59,
      "metadata": {
        "id": "cwQw5ldg39xb"
      },
      "outputs": [],
      "source": [
        "import matplotlib.pyplot as plt\n",
        "import seaborn as sns"
      ]
    },
    {
      "cell_type": "code",
      "execution_count": 60,
      "metadata": {
        "colab": {
          "base_uri": "https://localhost:8080/",
          "height": 467
        },
        "id": "Q5c5H2kC3sQ3",
        "outputId": "2125b68c-8fc8-4269-8520-74ea497350d6"
      },
      "outputs": [
        {
          "output_type": "execute_result",
          "data": {
            "text/plain": [
              "Text(0, 0.5, 'actual preds')"
            ]
          },
          "metadata": {},
          "execution_count": 60
        },
        {
          "output_type": "display_data",
          "data": {
            "text/plain": [
              "<Figure size 640x480 with 1 Axes>"
            ],
            "image/png": "[encoded data removed]"
          },
          "metadata": {}
        }
      ],
      "source": [
        "plt.scatter(test_preds.view(-1).detach().cpu().numpy(), label.view(-1)[test_idx].detach().cpu().numpy(), s=0.01)\n",
        "plt.xlabel(\"test preds\")\n",
        "plt.ylabel(\"actual preds\")"
      ]
    },
    {
      "cell_type": "code",
      "execution_count": null,
      "metadata": {
        "id": "M1-jkAHY4Be3"
      },
      "outputs": [],
      "source": []
    }
  ],
  "metadata": {
    "colab": {
      "provenance": []
    },
    "kernelspec": {
      "display_name": "Python 3",
      "name": "python3"
    },
    "language_info": {
      "name": "python"
    }
  },
  "nbformat": 4,
  "nbformat_minor": 0
}